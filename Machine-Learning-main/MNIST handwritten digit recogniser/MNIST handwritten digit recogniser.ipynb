{
 "cells": [
  {
   "cell_type": "code",
   "execution_count": 1,
   "id": "05fdd700",
   "metadata": {
    "_cell_guid": "b1076dfc-b9ad-4769-8c92-a6c4dae69d19",
    "_uuid": "8f2839f25d086af736a60e9eeb907d3b93b6e0e5",
    "execution": {
     "iopub.execute_input": "2022-10-07T10:51:12.715027Z",
     "iopub.status.busy": "2022-10-07T10:51:12.714117Z",
     "iopub.status.idle": "2022-10-07T10:51:12.730192Z",
     "shell.execute_reply": "2022-10-07T10:51:12.729354Z"
    },
    "papermill": {
     "duration": 0.02772,
     "end_time": "2022-10-07T10:51:12.733848",
     "exception": false,
     "start_time": "2022-10-07T10:51:12.706128",
     "status": "completed"
    },
    "tags": []
   },
   "outputs": [
    {
     "name": "stdout",
     "output_type": "stream",
     "text": [
      "/kaggle/input/digit-recognizer/sample_submission.csv\n",
      "/kaggle/input/digit-recognizer/train.csv\n",
      "/kaggle/input/digit-recognizer/test.csv\n",
      "/kaggle/input/hopethisworks/six.jpeg\n"
     ]
    }
   ],
   "source": [
    "# This Python 3 environment comes with many helpful analytics libraries installed\n",
    "# It is defined by the kaggle/python Docker image: https://github.com/kaggle/docker-python\n",
    "# For example, here's several helpful packages to load\n",
    "\n",
    "import numpy as np # linear algebra\n",
    "import pandas as pd # data processing, CSV file I/O (e.g. pd.read_csv)\n",
    "\n",
    "# Input data files are available in the read-only \"../input/\" directory\n",
    "# For example, running this (by clicking run or pressing Shift+Enter) will list all files under the input directory\n",
    "\n",
    "import os\n",
    "for dirname, _, filenames in os.walk('/kaggle/input'):\n",
    "    for filename in filenames:\n",
    "        print(os.path.join(dirname, filename))\n",
    "\n",
    "# You can write up to 20GB to the current directory (/kaggle/working/) that gets preserved as output when you create a version using \"Save & Run All\" \n",
    "# You can also write temporary files to /kaggle/temp/, but they won't be saved outside of the current session"
   ]
  },
  {
   "cell_type": "code",
   "execution_count": 2,
   "id": "f29647dd",
   "metadata": {
    "execution": {
     "iopub.execute_input": "2022-10-07T10:51:12.747536Z",
     "iopub.status.busy": "2022-10-07T10:51:12.746806Z",
     "iopub.status.idle": "2022-10-07T10:51:18.692801Z",
     "shell.execute_reply": "2022-10-07T10:51:18.691314Z"
    },
    "papermill": {
     "duration": 5.956106,
     "end_time": "2022-10-07T10:51:18.696205",
     "exception": false,
     "start_time": "2022-10-07T10:51:12.740099",
     "status": "completed"
    },
    "tags": []
   },
   "outputs": [],
   "source": [
    "test = pd.read_csv(\"/kaggle/input/digit-recognizer/test.csv\")\n",
    "train = pd.read_csv('/kaggle/input/digit-recognizer/train.csv')"
   ]
  },
  {
   "cell_type": "code",
   "execution_count": 3,
   "id": "3b2297a9",
   "metadata": {
    "execution": {
     "iopub.execute_input": "2022-10-07T10:51:18.713872Z",
     "iopub.status.busy": "2022-10-07T10:51:18.712783Z",
     "iopub.status.idle": "2022-10-07T10:51:18.757151Z",
     "shell.execute_reply": "2022-10-07T10:51:18.755938Z"
    },
    "papermill": {
     "duration": 0.056582,
     "end_time": "2022-10-07T10:51:18.760453",
     "exception": false,
     "start_time": "2022-10-07T10:51:18.703871",
     "status": "completed"
    },
    "tags": []
   },
   "outputs": [
    {
     "data": {
      "text/html": [
       "<div>\n",
       "<style scoped>\n",
       "    .dataframe tbody tr th:only-of-type {\n",
       "        vertical-align: middle;\n",
       "    }\n",
       "\n",
       "    .dataframe tbody tr th {\n",
       "        vertical-align: top;\n",
       "    }\n",
       "\n",
       "    .dataframe thead th {\n",
       "        text-align: right;\n",
       "    }\n",
       "</style>\n",
       "<table border=\"1\" class=\"dataframe\">\n",
       "  <thead>\n",
       "    <tr style=\"text-align: right;\">\n",
       "      <th></th>\n",
       "      <th>label</th>\n",
       "      <th>pixel0</th>\n",
       "      <th>pixel1</th>\n",
       "      <th>pixel2</th>\n",
       "      <th>pixel3</th>\n",
       "      <th>pixel4</th>\n",
       "      <th>pixel5</th>\n",
       "      <th>pixel6</th>\n",
       "      <th>pixel7</th>\n",
       "      <th>pixel8</th>\n",
       "      <th>...</th>\n",
       "      <th>pixel774</th>\n",
       "      <th>pixel775</th>\n",
       "      <th>pixel776</th>\n",
       "      <th>pixel777</th>\n",
       "      <th>pixel778</th>\n",
       "      <th>pixel779</th>\n",
       "      <th>pixel780</th>\n",
       "      <th>pixel781</th>\n",
       "      <th>pixel782</th>\n",
       "      <th>pixel783</th>\n",
       "    </tr>\n",
       "  </thead>\n",
       "  <tbody>\n",
       "    <tr>\n",
       "      <th>0</th>\n",
       "      <td>1</td>\n",
       "      <td>0</td>\n",
       "      <td>0</td>\n",
       "      <td>0</td>\n",
       "      <td>0</td>\n",
       "      <td>0</td>\n",
       "      <td>0</td>\n",
       "      <td>0</td>\n",
       "      <td>0</td>\n",
       "      <td>0</td>\n",
       "      <td>...</td>\n",
       "      <td>0</td>\n",
       "      <td>0</td>\n",
       "      <td>0</td>\n",
       "      <td>0</td>\n",
       "      <td>0</td>\n",
       "      <td>0</td>\n",
       "      <td>0</td>\n",
       "      <td>0</td>\n",
       "      <td>0</td>\n",
       "      <td>0</td>\n",
       "    </tr>\n",
       "    <tr>\n",
       "      <th>1</th>\n",
       "      <td>0</td>\n",
       "      <td>0</td>\n",
       "      <td>0</td>\n",
       "      <td>0</td>\n",
       "      <td>0</td>\n",
       "      <td>0</td>\n",
       "      <td>0</td>\n",
       "      <td>0</td>\n",
       "      <td>0</td>\n",
       "      <td>0</td>\n",
       "      <td>...</td>\n",
       "      <td>0</td>\n",
       "      <td>0</td>\n",
       "      <td>0</td>\n",
       "      <td>0</td>\n",
       "      <td>0</td>\n",
       "      <td>0</td>\n",
       "      <td>0</td>\n",
       "      <td>0</td>\n",
       "      <td>0</td>\n",
       "      <td>0</td>\n",
       "    </tr>\n",
       "    <tr>\n",
       "      <th>2</th>\n",
       "      <td>1</td>\n",
       "      <td>0</td>\n",
       "      <td>0</td>\n",
       "      <td>0</td>\n",
       "      <td>0</td>\n",
       "      <td>0</td>\n",
       "      <td>0</td>\n",
       "      <td>0</td>\n",
       "      <td>0</td>\n",
       "      <td>0</td>\n",
       "      <td>...</td>\n",
       "      <td>0</td>\n",
       "      <td>0</td>\n",
       "      <td>0</td>\n",
       "      <td>0</td>\n",
       "      <td>0</td>\n",
       "      <td>0</td>\n",
       "      <td>0</td>\n",
       "      <td>0</td>\n",
       "      <td>0</td>\n",
       "      <td>0</td>\n",
       "    </tr>\n",
       "    <tr>\n",
       "      <th>3</th>\n",
       "      <td>4</td>\n",
       "      <td>0</td>\n",
       "      <td>0</td>\n",
       "      <td>0</td>\n",
       "      <td>0</td>\n",
       "      <td>0</td>\n",
       "      <td>0</td>\n",
       "      <td>0</td>\n",
       "      <td>0</td>\n",
       "      <td>0</td>\n",
       "      <td>...</td>\n",
       "      <td>0</td>\n",
       "      <td>0</td>\n",
       "      <td>0</td>\n",
       "      <td>0</td>\n",
       "      <td>0</td>\n",
       "      <td>0</td>\n",
       "      <td>0</td>\n",
       "      <td>0</td>\n",
       "      <td>0</td>\n",
       "      <td>0</td>\n",
       "    </tr>\n",
       "    <tr>\n",
       "      <th>4</th>\n",
       "      <td>0</td>\n",
       "      <td>0</td>\n",
       "      <td>0</td>\n",
       "      <td>0</td>\n",
       "      <td>0</td>\n",
       "      <td>0</td>\n",
       "      <td>0</td>\n",
       "      <td>0</td>\n",
       "      <td>0</td>\n",
       "      <td>0</td>\n",
       "      <td>...</td>\n",
       "      <td>0</td>\n",
       "      <td>0</td>\n",
       "      <td>0</td>\n",
       "      <td>0</td>\n",
       "      <td>0</td>\n",
       "      <td>0</td>\n",
       "      <td>0</td>\n",
       "      <td>0</td>\n",
       "      <td>0</td>\n",
       "      <td>0</td>\n",
       "    </tr>\n",
       "  </tbody>\n",
       "</table>\n",
       "<p>5 rows × 785 columns</p>\n",
       "</div>"
      ],
      "text/plain": [
       "   label  pixel0  pixel1  pixel2  pixel3  pixel4  pixel5  pixel6  pixel7  \\\n",
       "0      1       0       0       0       0       0       0       0       0   \n",
       "1      0       0       0       0       0       0       0       0       0   \n",
       "2      1       0       0       0       0       0       0       0       0   \n",
       "3      4       0       0       0       0       0       0       0       0   \n",
       "4      0       0       0       0       0       0       0       0       0   \n",
       "\n",
       "   pixel8  ...  pixel774  pixel775  pixel776  pixel777  pixel778  pixel779  \\\n",
       "0       0  ...         0         0         0         0         0         0   \n",
       "1       0  ...         0         0         0         0         0         0   \n",
       "2       0  ...         0         0         0         0         0         0   \n",
       "3       0  ...         0         0         0         0         0         0   \n",
       "4       0  ...         0         0         0         0         0         0   \n",
       "\n",
       "   pixel780  pixel781  pixel782  pixel783  \n",
       "0         0         0         0         0  \n",
       "1         0         0         0         0  \n",
       "2         0         0         0         0  \n",
       "3         0         0         0         0  \n",
       "4         0         0         0         0  \n",
       "\n",
       "[5 rows x 785 columns]"
      ]
     },
     "execution_count": 3,
     "metadata": {},
     "output_type": "execute_result"
    }
   ],
   "source": [
    "train.head()"
   ]
  },
  {
   "cell_type": "code",
   "execution_count": 4,
   "id": "c4e4148a",
   "metadata": {
    "execution": {
     "iopub.execute_input": "2022-10-07T10:51:18.778808Z",
     "iopub.status.busy": "2022-10-07T10:51:18.777909Z",
     "iopub.status.idle": "2022-10-07T10:51:18.786051Z",
     "shell.execute_reply": "2022-10-07T10:51:18.784899Z"
    },
    "papermill": {
     "duration": 0.020846,
     "end_time": "2022-10-07T10:51:18.789232",
     "exception": false,
     "start_time": "2022-10-07T10:51:18.768386",
     "status": "completed"
    },
    "tags": []
   },
   "outputs": [
    {
     "data": {
      "text/plain": [
       "(42000, 785)"
      ]
     },
     "execution_count": 4,
     "metadata": {},
     "output_type": "execute_result"
    }
   ],
   "source": [
    "train.shape"
   ]
  },
  {
   "cell_type": "code",
   "execution_count": 5,
   "id": "497630d2",
   "metadata": {
    "execution": {
     "iopub.execute_input": "2022-10-07T10:51:18.803207Z",
     "iopub.status.busy": "2022-10-07T10:51:18.802238Z",
     "iopub.status.idle": "2022-10-07T10:51:19.037029Z",
     "shell.execute_reply": "2022-10-07T10:51:19.036156Z"
    },
    "papermill": {
     "duration": 0.244759,
     "end_time": "2022-10-07T10:51:19.039651",
     "exception": false,
     "start_time": "2022-10-07T10:51:18.794892",
     "status": "completed"
    },
    "tags": []
   },
   "outputs": [
    {
     "data": {
      "image/png": "[encoded data removed]",
      "text/plain": [
       "<Figure size 432x288 with 1 Axes>"
      ]
     },
     "metadata": {
      "needs_background": "light"
     },
     "output_type": "display_data"
    }
   ],
   "source": [
    "import matplotlib.pyplot as plt\n",
    "num = np.array(train.iloc[8,1:]).reshape(28,28)\n",
    "plt.imshow(num)\n",
    "plt.show()"
   ]
  },
  {
   "cell_type": "code",
   "execution_count": 6,
   "id": "93201a9c",
   "metadata": {
    "execution": {
     "iopub.execute_input": "2022-10-07T10:51:19.054988Z",
     "iopub.status.busy": "2022-10-07T10:51:19.052632Z",
     "iopub.status.idle": "2022-10-07T10:51:19.108587Z",
     "shell.execute_reply": "2022-10-07T10:51:19.107352Z"
    },
    "papermill": {
     "duration": 0.066121,
     "end_time": "2022-10-07T10:51:19.111682",
     "exception": false,
     "start_time": "2022-10-07T10:51:19.045561",
     "status": "completed"
    },
    "tags": []
   },
   "outputs": [
    {
     "data": {
      "text/plain": [
       "label       0\n",
       "pixel0      0\n",
       "pixel1      0\n",
       "pixel2      0\n",
       "pixel3      0\n",
       "           ..\n",
       "pixel779    0\n",
       "pixel780    0\n",
       "pixel781    0\n",
       "pixel782    0\n",
       "pixel783    0\n",
       "Length: 785, dtype: int64"
      ]
     },
     "execution_count": 6,
     "metadata": {},
     "output_type": "execute_result"
    }
   ],
   "source": [
    "missing_val_count = train.isnull().sum()\n",
    "missing_val_count"
   ]
  },
  {
   "cell_type": "code",
   "execution_count": 7,
   "id": "4270b75f",
   "metadata": {
    "execution": {
     "iopub.execute_input": "2022-10-07T10:51:19.126613Z",
     "iopub.status.busy": "2022-10-07T10:51:19.126191Z",
     "iopub.status.idle": "2022-10-07T10:51:19.365493Z",
     "shell.execute_reply": "2022-10-07T10:51:19.364182Z"
    },
    "papermill": {
     "duration": 0.250564,
     "end_time": "2022-10-07T10:51:19.368508",
     "exception": false,
     "start_time": "2022-10-07T10:51:19.117944",
     "status": "completed"
    },
    "tags": []
   },
   "outputs": [],
   "source": [
    "x = np.array(train)\n",
    "y = np.array(test)\n",
    "\n",
    "X_train = x[:,1:]\n",
    "Y_train = x[:,0]\n",
    "x_test = y"
   ]
  },
  {
   "cell_type": "code",
   "execution_count": 8,
   "id": "df3e2232",
   "metadata": {
    "execution": {
     "iopub.execute_input": "2022-10-07T10:51:19.382119Z",
     "iopub.status.busy": "2022-10-07T10:51:19.381680Z",
     "iopub.status.idle": "2022-10-07T10:51:26.278024Z",
     "shell.execute_reply": "2022-10-07T10:51:26.276569Z"
    },
    "papermill": {
     "duration": 6.90647,
     "end_time": "2022-10-07T10:51:26.280993",
     "exception": false,
     "start_time": "2022-10-07T10:51:19.374523",
     "status": "completed"
    },
    "tags": []
   },
   "outputs": [],
   "source": [
    "from keras.preprocessing.image import ImageDataGenerator\n",
    "X_train = X_train.reshape(-1,28,28,1)"
   ]
  },
  {
   "cell_type": "code",
   "execution_count": 9,
   "id": "3b26c7b0",
   "metadata": {
    "execution": {
     "iopub.execute_input": "2022-10-07T10:51:26.295014Z",
     "iopub.status.busy": "2022-10-07T10:51:26.294315Z",
     "iopub.status.idle": "2022-10-07T10:51:26.454730Z",
     "shell.execute_reply": "2022-10-07T10:51:26.453541Z"
    },
    "papermill": {
     "duration": 0.170592,
     "end_time": "2022-10-07T10:51:26.457715",
     "exception": false,
     "start_time": "2022-10-07T10:51:26.287123",
     "status": "completed"
    },
    "tags": []
   },
   "outputs": [],
   "source": [
    "datagen = ImageDataGenerator(\n",
    "rotation_range=15,\n",
    "    height_shift_range=0.1,\n",
    "    zoom_range=0.1,\n",
    "    shear_range=0.1,\n",
    ")\n",
    "datagen.fit(X_train)"
   ]
  },
  {
   "cell_type": "code",
   "execution_count": 10,
   "id": "6a96acde",
   "metadata": {
    "execution": {
     "iopub.execute_input": "2022-10-07T10:51:26.472144Z",
     "iopub.status.busy": "2022-10-07T10:51:26.471032Z",
     "iopub.status.idle": "2022-10-07T10:51:26.476716Z",
     "shell.execute_reply": "2022-10-07T10:51:26.475524Z"
    },
    "papermill": {
     "duration": 0.015338,
     "end_time": "2022-10-07T10:51:26.479317",
     "exception": false,
     "start_time": "2022-10-07T10:51:26.463979",
     "status": "completed"
    },
    "tags": []
   },
   "outputs": [],
   "source": [
    "X_train = X_train.reshape(-1,784)"
   ]
  },
  {
   "cell_type": "code",
   "execution_count": 11,
   "id": "ed79616f",
   "metadata": {
    "execution": {
     "iopub.execute_input": "2022-10-07T10:51:26.493522Z",
     "iopub.status.busy": "2022-10-07T10:51:26.493115Z",
     "iopub.status.idle": "2022-10-07T10:51:27.595817Z",
     "shell.execute_reply": "2022-10-07T10:51:27.594552Z"
    },
    "papermill": {
     "duration": 1.113165,
     "end_time": "2022-10-07T10:51:27.598803",
     "exception": false,
     "start_time": "2022-10-07T10:51:26.485638",
     "status": "completed"
    },
    "tags": []
   },
   "outputs": [],
   "source": [
    "from sklearn.neighbors import KNeighborsClassifier"
   ]
  },
  {
   "cell_type": "code",
   "execution_count": 12,
   "id": "5e1237b3",
   "metadata": {
    "execution": {
     "iopub.execute_input": "2022-10-07T10:51:27.612224Z",
     "iopub.status.busy": "2022-10-07T10:51:27.611771Z",
     "iopub.status.idle": "2022-10-07T10:51:27.628330Z",
     "shell.execute_reply": "2022-10-07T10:51:27.627450Z"
    },
    "papermill": {
     "duration": 0.025993,
     "end_time": "2022-10-07T10:51:27.630669",
     "exception": false,
     "start_time": "2022-10-07T10:51:27.604676",
     "status": "completed"
    },
    "tags": []
   },
   "outputs": [
    {
     "data": {
      "text/plain": [
       "KNeighborsClassifier()"
      ]
     },
     "execution_count": 12,
     "metadata": {},
     "output_type": "execute_result"
    }
   ],
   "source": [
    "KNN = KNeighborsClassifier(n_neighbors=5)\n",
    "KNN.fit(X_train,Y_train)"
   ]
  },
  {
   "cell_type": "code",
   "execution_count": 13,
   "id": "84171a3e",
   "metadata": {
    "execution": {
     "iopub.execute_input": "2022-10-07T10:51:27.645041Z",
     "iopub.status.busy": "2022-10-07T10:51:27.643728Z",
     "iopub.status.idle": "2022-10-07T10:51:27.824721Z",
     "shell.execute_reply": "2022-10-07T10:51:27.823118Z"
    },
    "papermill": {
     "duration": 0.19233,
     "end_time": "2022-10-07T10:51:27.828863",
     "exception": false,
     "start_time": "2022-10-07T10:51:27.636533",
     "status": "completed"
    },
    "tags": []
   },
   "outputs": [
    {
     "data": {
      "text/plain": [
       "0"
      ]
     },
     "execution_count": 13,
     "metadata": {},
     "output_type": "execute_result"
    }
   ],
   "source": [
    "int(KNN.predict(x_test[8].reshape(1,-1)))"
   ]
  },
  {
   "cell_type": "code",
   "execution_count": 14,
   "id": "403b4cde",
   "metadata": {
    "execution": {
     "iopub.execute_input": "2022-10-07T10:51:27.864123Z",
     "iopub.status.busy": "2022-10-07T10:51:27.863289Z",
     "iopub.status.idle": "2022-10-07T10:51:28.023096Z",
     "shell.execute_reply": "2022-10-07T10:51:28.022281Z"
    },
    "papermill": {
     "duration": 0.181401,
     "end_time": "2022-10-07T10:51:28.026983",
     "exception": false,
     "start_time": "2022-10-07T10:51:27.845582",
     "status": "completed"
    },
    "tags": []
   },
   "outputs": [
    {
     "data": {
      "image/png": "[encoded data removed]",
      "text/plain": [
       "<Figure size 432x288 with 1 Axes>"
      ]
     },
     "metadata": {
      "needs_background": "light"
     },
     "output_type": "display_data"
    }
   ],
   "source": [
    "num = np.array(test.iloc[8,0:]).reshape(28,28)\n",
    "plt.imshow(num)\n",
    "plt.show()"
   ]
  },
  {
   "cell_type": "code",
   "execution_count": 15,
   "id": "d1ec1557",
   "metadata": {
    "execution": {
     "iopub.execute_input": "2022-10-07T10:51:28.043820Z",
     "iopub.status.busy": "2022-10-07T10:51:28.042722Z",
     "iopub.status.idle": "2022-10-07T10:51:28.049337Z",
     "shell.execute_reply": "2022-10-07T10:51:28.048105Z"
    },
    "papermill": {
     "duration": 0.016584,
     "end_time": "2022-10-07T10:51:28.051832",
     "exception": false,
     "start_time": "2022-10-07T10:51:28.035248",
     "status": "completed"
    },
    "tags": []
   },
   "outputs": [
    {
     "data": {
      "text/plain": [
       "(28000, 784)"
      ]
     },
     "execution_count": 15,
     "metadata": {},
     "output_type": "execute_result"
    }
   ],
   "source": [
    "test.shape"
   ]
  },
  {
   "cell_type": "code",
   "execution_count": 16,
   "id": "9bd3ad6e",
   "metadata": {
    "execution": {
     "iopub.execute_input": "2022-10-07T10:51:28.066178Z",
     "iopub.status.busy": "2022-10-07T10:51:28.065735Z",
     "iopub.status.idle": "2022-10-07T10:52:23.155982Z",
     "shell.execute_reply": "2022-10-07T10:52:23.153659Z"
    },
    "papermill": {
     "duration": 55.103666,
     "end_time": "2022-10-07T10:52:23.161854",
     "exception": false,
     "start_time": "2022-10-07T10:51:28.058188",
     "status": "completed"
    },
    "tags": []
   },
   "outputs": [],
   "source": [
    "results = KNN.predict(x_test)"
   ]
  },
  {
   "cell_type": "code",
   "execution_count": 17,
   "id": "50361a0d",
   "metadata": {
    "execution": {
     "iopub.execute_input": "2022-10-07T10:52:23.179444Z",
     "iopub.status.busy": "2022-10-07T10:52:23.178941Z",
     "iopub.status.idle": "2022-10-07T10:52:23.188702Z",
     "shell.execute_reply": "2022-10-07T10:52:23.187509Z"
    },
    "papermill": {
     "duration": 0.021433,
     "end_time": "2022-10-07T10:52:23.191933",
     "exception": false,
     "start_time": "2022-10-07T10:52:23.170500",
     "status": "completed"
    },
    "tags": []
   },
   "outputs": [
    {
     "data": {
      "text/plain": [
       "array([2, 0, 9, ..., 3, 9, 2])"
      ]
     },
     "execution_count": 17,
     "metadata": {},
     "output_type": "execute_result"
    }
   ],
   "source": [
    "results"
   ]
  },
  {
   "cell_type": "code",
   "execution_count": 18,
   "id": "62566377",
   "metadata": {
    "execution": {
     "iopub.execute_input": "2022-10-07T10:52:23.206711Z",
     "iopub.status.busy": "2022-10-07T10:52:23.206304Z",
     "iopub.status.idle": "2022-10-07T10:52:23.258826Z",
     "shell.execute_reply": "2022-10-07T10:52:23.257513Z"
    },
    "papermill": {
     "duration": 0.063515,
     "end_time": "2022-10-07T10:52:23.261915",
     "exception": false,
     "start_time": "2022-10-07T10:52:23.198400",
     "status": "completed"
    },
    "tags": []
   },
   "outputs": [],
   "source": [
    "results = pd.Series(results,name=\"Label\")\n",
    "submission = pd.concat([pd.Series(range(1,28001),name = \"ImageId\"),results],axis = 1)\n",
    "\n",
    "submission.to_csv(\"submission.csv\",index=False)"
   ]
  }
 ],
 "metadata": {
  "kernelspec": {
   "display_name": "Python 3",
   "language": "python",
   "name": "python3"
  },
  "language_info": {
   "codemirror_mode": {
    "name": "ipython",
    "version": 3
   },
   "file_extension": ".py",
   "mimetype": "text/x-python",
   "name": "python",
   "nbconvert_exporter": "python",
   "pygments_lexer": "ipython3",
   "version": "3.7.12"
  },
  "papermill": {
   "default_parameters": {},
   "duration": 83.272797,
   "end_time": "2022-10-07T10:52:26.315324",
   "environment_variables": {},
   "exception": null,
   "input_path": "__notebook__.ipynb",
   "output_path": "__notebook__.ipynb",
   "parameters": {},
   "start_time": "2022-10-07T10:51:03.042527",
   "version": "2.3.4"
  }
 },
 "nbformat": 4,
 "nbformat_minor": 5
}
